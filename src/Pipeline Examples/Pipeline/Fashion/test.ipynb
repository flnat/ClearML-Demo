{
 "cells": [
  {
   "cell_type": "code",
   "execution_count": 28,
   "metadata": {
    "collapsed": true
   },
   "outputs": [],
   "source": [
    "import tensorflow as tf\n",
    "import numpy as np\n",
    "import matplotlib.pyplot as plt\n",
    "\n",
    "from sklearn.metrics import accuracy_score"
   ]
  },
  {
   "cell_type": "code",
   "execution_count": 17,
   "outputs": [
    {
     "name": "stdout",
     "output_type": "stream",
     "text": [
      "x_train shape: (60000, 28, 28) y_train shape: (60000,)\n"
     ]
    }
   ],
   "source": [
    "(x_train, y_train), (x_test, y_test) = tf.keras.datasets.fashion_mnist.load_data()\n",
    "print(\"x_train shape:\", x_train.shape, \"y_train shape:\", y_train.shape)"
   ],
   "metadata": {
    "collapsed": false,
    "pycharm": {
     "name": "#%%\n"
    }
   }
  },
  {
   "cell_type": "code",
   "execution_count": 7,
   "outputs": [
    {
     "data": {
      "text/plain": "<matplotlib.image.AxesImage at 0x2aecca891f0>"
     },
     "execution_count": 7,
     "metadata": {},
     "output_type": "execute_result"
    },
    {
     "data": {
      "text/plain": "<Figure size 432x288 with 1 Axes>",
      "image/png": "[encoded data removed]"
     },
     "metadata": {
      "needs_background": "light"
     },
     "output_type": "display_data"
    }
   ],
   "source": [
    "plt.imshow(x_train[0])"
   ],
   "metadata": {
    "collapsed": false,
    "pycharm": {
     "name": "#%%\n"
    }
   }
  },
  {
   "cell_type": "code",
   "execution_count": 18,
   "outputs": [],
   "source": [
    "x_train = x_train.astype('float32') / 255\n",
    "x_test = x_test.astype('float32') / 255"
   ],
   "metadata": {
    "collapsed": false,
    "pycharm": {
     "name": "#%%\n"
    }
   }
  },
  {
   "cell_type": "code",
   "execution_count": 16,
   "outputs": [
    {
     "name": "stdout",
     "output_type": "stream",
     "text": [
      "Model: \"sequential_2\"\n",
      "_________________________________________________________________\n",
      " Layer (type)                Output Shape              Param #   \n",
      "=================================================================\n",
      " conv2d_2 (Conv2D)           (None, 27, 27, 32)        160       \n",
      "                                                                 \n",
      " max_pooling2d_2 (MaxPooling  (None, 13, 13, 32)       0         \n",
      " 2D)                                                             \n",
      "                                                                 \n",
      " conv2d_3 (Conv2D)           (None, 12, 12, 64)        8256      \n",
      "                                                                 \n",
      " flatten_1 (Flatten)         (None, 9216)              0         \n",
      "                                                                 \n",
      " dense_2 (Dense)             (None, 10)                92170     \n",
      "                                                                 \n",
      "=================================================================\n",
      "Total params: 100,586\n",
      "Trainable params: 100,586\n",
      "Non-trainable params: 0\n",
      "_________________________________________________________________\n"
     ]
    }
   ],
   "source": [
    "model = tf.keras.models.Sequential([\n",
    "    tf.keras.layers.Conv2D(32, (2, 2), input_shape=(28, 28, 1), activation='relu'),\n",
    "    tf.keras.layers.MaxPooling2D((2, 2)),\n",
    "    tf.keras.layers.Conv2D(64, (2, 2), activation='relu'),\n",
    "    tf.keras.layers.Flatten(),\n",
    "    tf.keras.layers.Dense(10, activation='softmax')\n",
    "])\n",
    "# Take a look at the model summary\n",
    "model.summary()"
   ],
   "metadata": {
    "collapsed": false,
    "pycharm": {
     "name": "#%%\n"
    }
   }
  },
  {
   "cell_type": "code",
   "execution_count": 21,
   "outputs": [],
   "source": [
    "model.compile(\n",
    "    optimizer='adam',\n",
    "    loss='sparse_categorical_crossentropy',\n",
    "    metrics=['accuracy'])"
   ],
   "metadata": {
    "collapsed": false,
    "pycharm": {
     "name": "#%%\n"
    }
   }
  },
  {
   "cell_type": "code",
   "execution_count": 22,
   "outputs": [
    {
     "name": "stdout",
     "output_type": "stream",
     "text": [
      "Epoch 1/10\n",
      "60/60 [==============================] - 29s 110ms/step - loss: 0.8676 - accuracy: 0.7171\n",
      "Epoch 2/10\n",
      "60/60 [==============================] - 7s 112ms/step - loss: 0.4695 - accuracy: 0.8338\n",
      "Epoch 3/10\n",
      "60/60 [==============================] - 7s 112ms/step - loss: 0.4060 - accuracy: 0.8586\n",
      "Epoch 4/10\n",
      "60/60 [==============================] - 7s 112ms/step - loss: 0.3753 - accuracy: 0.8686\n",
      "Epoch 5/10\n",
      "60/60 [==============================] - 7s 111ms/step - loss: 0.3577 - accuracy: 0.8746\n",
      "Epoch 6/10\n",
      "60/60 [==============================] - 7s 111ms/step - loss: 0.3446 - accuracy: 0.8782\n",
      "Epoch 7/10\n",
      "60/60 [==============================] - 7s 111ms/step - loss: 0.3270 - accuracy: 0.8855\n",
      "Epoch 8/10\n",
      "60/60 [==============================] - 7s 110ms/step - loss: 0.3203 - accuracy: 0.8877\n",
      "Epoch 9/10\n",
      "60/60 [==============================] - 7s 110ms/step - loss: 0.3077 - accuracy: 0.8915\n",
      "Epoch 10/10\n",
      "60/60 [==============================] - 7s 110ms/step - loss: 0.3007 - accuracy: 0.8948\n"
     ]
    }
   ],
   "source": [
    "results = model.fit(x_train, y_train, epochs=10, batch_size=1000)"
   ],
   "metadata": {
    "collapsed": false,
    "pycharm": {
     "name": "#%%\n"
    }
   }
  },
  {
   "cell_type": "code",
   "execution_count": 25,
   "outputs": [
    {
     "data": {
      "text/plain": "{'loss': [0.8675851821899414,\n  0.4695221483707428,\n  0.40596118569374084,\n  0.3753136098384857,\n  0.35771337151527405,\n  0.3445642590522766,\n  0.3270074129104614,\n  0.32032662630081177,\n  0.30773910880088806,\n  0.3007499575614929],\n 'accuracy': [0.7171333432197571,\n  0.833816647529602,\n  0.8586166501045227,\n  0.8686000108718872,\n  0.8745666742324829,\n  0.8782166838645935,\n  0.885533332824707,\n  0.887666642665863,\n  0.8915333151817322,\n  0.8947666883468628]}"
     },
     "execution_count": 25,
     "metadata": {},
     "output_type": "execute_result"
    }
   ],
   "source": [
    "results.history"
   ],
   "metadata": {
    "collapsed": false,
    "pycharm": {
     "name": "#%%\n"
    }
   }
  },
  {
   "cell_type": "code",
   "execution_count": 27,
   "outputs": [
    {
     "data": {
      "text/plain": "<Figure size 576x432 with 1 Axes>",
      "image/png": "[encoded data removed]"
     },
     "metadata": {
      "needs_background": "light"
     },
     "output_type": "display_data"
    }
   ],
   "source": [
    "plt.figure(figsize = (8, 6))\n",
    "plt.plot(results.history['accuracy'])\n",
    "plt.title(\"Accuracy of Training Images\")\n",
    "plt.xlabel('Epochs')\n",
    "plt.ylabel('Accuracy')\n",
    "plt.show()"
   ],
   "metadata": {
    "collapsed": false,
    "pycharm": {
     "name": "#%%\n"
    }
   }
  },
  {
   "cell_type": "code",
   "execution_count": 33,
   "outputs": [
    {
     "name": "stdout",
     "output_type": "stream",
     "text": [
      "313/313 - 5s - loss: 0.3265 - accuracy: 0.8859 - 5s/epoch - 16ms/step\n",
      "\n",
      "Test accuracy: 0.8859000205993652\n"
     ]
    }
   ],
   "source": [
    "test_loss, test_acc = model.evaluate(x_test,  y_test, verbose=2)\n",
    "\n",
    "print('\\nTest accuracy:', test_acc)\n"
   ],
   "metadata": {
    "collapsed": false,
    "pycharm": {
     "name": "#%%\n"
    }
   }
  },
  {
   "cell_type": "code",
   "execution_count": 31,
   "outputs": [
    {
     "data": {
      "text/plain": "array([[1.6933384e-06, 2.4509571e-08, 2.2201612e-06, ..., 2.4187613e-02,\n        2.1397285e-03, 9.6327335e-01],\n       [8.2486724e-05, 2.1807396e-09, 9.9729699e-01, ..., 1.5202359e-14,\n        9.0423208e-07, 3.7184422e-11],\n       [7.7671785e-07, 9.9999619e-01, 3.2247265e-09, ..., 3.6665329e-10,\n        6.2362955e-09, 2.4137242e-10],\n       ...,\n       [1.0150063e-02, 1.1179531e-07, 2.7595346e-03, ..., 2.0342311e-05,\n        9.3980855e-01, 7.1134380e-08],\n       [1.4444117e-07, 9.9951792e-01, 2.5504827e-09, ..., 1.8982133e-08,\n        1.2015605e-07, 1.5928234e-07],\n       [2.0036241e-04, 2.6241019e-06, 1.5997391e-03, ..., 2.6791400e-01,\n        3.3141717e-02, 1.9339275e-03]], dtype=float32)"
     },
     "execution_count": 31,
     "metadata": {},
     "output_type": "execute_result"
    }
   ],
   "source": [
    "test_accuracy\n",
    "predictions"
   ],
   "metadata": {
    "collapsed": false,
    "pycharm": {
     "name": "#%%\n"
    }
   }
  }
 ],
 "metadata": {
  "kernelspec": {
   "display_name": "Python 3",
   "language": "python",
   "name": "python3"
  },
  "language_info": {
   "codemirror_mode": {
    "name": "ipython",
    "version": 2
   },
   "file_extension": ".py",
   "mimetype": "text/x-python",
   "name": "python",
   "nbconvert_exporter": "python",
   "pygments_lexer": "ipython2",
   "version": "2.7.6"
  }
 },
 "nbformat": 4,
 "nbformat_minor": 0
}