{
 "cells": [
  {
   "cell_type": "code",
   "execution_count": 2,
   "metadata": {
    "collapsed": true
   },
   "outputs": [],
   "source": [
    "import pandas\n",
    "import pandas as pd\n",
    "import matplotlib.pyplot as plt\n",
    "import seaborn as sns"
   ]
  },
  {
   "cell_type": "code",
   "execution_count": 3,
   "outputs": [],
   "source": [
    "from sklearn.linear_model import LogisticRegression\n",
    "from sklearn.linear_model import LinearRegression\n",
    "from sklearn.model_selection import train_test_split\n",
    "from sklearn.metrics import classification_report\n",
    "from sklearn.metrics import confusion_matrix\n",
    "from sklearn.metrics import r2_score\n",
    "from sklearn.tree import DecisionTreeRegressor"
   ],
   "metadata": {
    "collapsed": false,
    "pycharm": {
     "name": "#%%\n"
    }
   }
  },
  {
   "cell_type": "code",
   "execution_count": 4,
   "outputs": [],
   "source": [
    "def retrieve_data(url: str) -> pd.DataFrame:\n",
    "    return pd.read_csv(url)"
   ],
   "metadata": {
    "collapsed": false,
    "pycharm": {
     "name": "#%%\n"
    }
   }
  },
  {
   "cell_type": "code",
   "execution_count": 5,
   "outputs": [],
   "source": [
    "def prep_data(data: pd.DataFrame) -> pd.DataFrame:\n",
    "    data.drop_duplicates(inplace=True)\n",
    "    data.drop(['name', 'id', 'host_name', 'host_id', 'last_review', 'license'], axis=1, inplace=True)\n",
    "    data.fillna({'reviews_per_month': 0}, inplace=True)\n",
    "    data.dropna(how='any', inplace=True)\n",
    "    return data"
   ],
   "metadata": {
    "collapsed": false,
    "pycharm": {
     "name": "#%%\n"
    }
   }
  },
  {
   "cell_type": "code",
   "execution_count": 6,
   "outputs": [],
   "source": [
    "def describe_data(df: pd.DataFrame) -> bool:\n",
    "    # Summary Statistics of Continuous Variables\n",
    "    df.describe()\n",
    "    corr = df.corr(method=\"kendall\")\n",
    "    sns.heatmap(corr, annot=True)\n",
    "    plt.show()\n",
    "    return True"
   ],
   "metadata": {
    "collapsed": false,
    "pycharm": {
     "name": "#%%\n"
    }
   }
  },
  {
   "cell_type": "code",
   "execution_count": 7,
   "outputs": [],
   "source": [
    "def encoding(df: pd.DataFrame) -> pd.DataFrame:\n",
    "    df_en = df.copy()\n",
    "    df_en.drop([\n",
    "        \"latitude\", \"longitude\", \"neighbourhood\",\n",
    "        \"number_of_reviews\", \"reviews_per_month\",\n",
    "        \"number_of_reviews_ltm\"\n",
    "    ], axis=1, inplace=True)\n",
    "    for column in df_en.columns[df_en.columns.isin(\"neighbourhood_group\", \"room_type\")]:\n",
    "        df_en[column] = df_en[column].factorize()[0]\n",
    "    return df_en"
   ],
   "metadata": {
    "collapsed": false,
    "pycharm": {
     "name": "#%%\n"
    }
   }
  },
  {
   "cell_type": "code",
   "execution_count": 8,
   "outputs": [],
   "source": [
    "def linear_regression(df: pd.DataFrame):\n",
    "    x = df[~df.columns.isin(['price'])]\n",
    "    y = df['price']\n",
    "    x_train, x_test, y_train, y_test = train_test_split(x, y, test_size=.1, random_state=353)\n",
    "    reg =LinearRegression()\n",
    "    reg.fit(x_train, y_train)\n",
    "    y_pred = reg.predict(x_test)\n",
    "\n",
    "    return r2_score(y_test, y_pred)"
   ],
   "metadata": {
    "collapsed": false,
    "pycharm": {
     "name": "#%%\n"
    }
   }
  },
  {
   "cell_type": "code",
   "execution_count": 10,
   "outputs": [
    {
     "name": "stderr",
     "output_type": "stream",
     "text": [
      "C:\\Users\\natte\\AppData\\Local\\Temp\\ipykernel_15652\\2258272138.py:2: DtypeWarning: Columns (17) have mixed types. Specify dtype option on import or set low_memory=False.\n",
      "  return pd.read_csv(url)\n"
     ]
    }
   ],
   "source": [
    "DATASET_URL = \"http://data.insideairbnb.com/united-states/ny/new-york-city/2021-12-04/visualisations/listings.csv\"\n",
    "data = retrieve_data(DATASET_URL)"
   ],
   "metadata": {
    "collapsed": false,
    "pycharm": {
     "name": "#%%\n"
    }
   }
  },
  {
   "cell_type": "code",
   "execution_count": 14,
   "outputs": [
    {
     "data": {
      "text/plain": "             id                                               name    host_id  \\\n0          2595                              Skylit Midtown Castle       2845   \n1          3831  Whole flr w/private bdrm, bath & kitchen(pls r...       4869   \n2          5121                                    BlissArtsSpace!       7356   \n3          5136           Spacious Brooklyn Duplex, Patio + Garden       7378   \n4          5178                   Large Furnished Room Near B'way　       8967   \n...         ...                                                ...        ...   \n38272  53662330                HUGE PRIVATE ROOM, AWESOME LOCATION  100146245   \n38273  53662542   LARGE PRVT ROOM, QUIET RESIDENCE PERFECTLOCATION  100146245   \n38274  53662772                      King Room - Midtown Manhattan  337879004   \n38275  53663081                           King Room - Bryant Park.  337879004   \n38276  53665099  ★Luxury in the ❤of Bklyn | Fast Wi-Fi | Sleeps...   60105727   \n\n         host_name neighbourhood_group       neighbourhood   latitude  \\\n0         Jennifer           Manhattan             Midtown  40.753560   \n1      LisaRoxanne            Brooklyn  Bedford-Stuyvesant  40.684940   \n2            Garon            Brooklyn  Bedford-Stuyvesant  40.685350   \n3          Rebecca            Brooklyn         Sunset Park  40.662650   \n4         Shunichi           Manhattan             Midtown  40.764570   \n...            ...                 ...                 ...        ...   \n38272        Serin       Staten Island       Port Richmond  40.632222   \n38273        Serin       Staten Island       Port Richmond  40.630502   \n38274        Sinem           Manhattan             Midtown  40.753887   \n38275        Sinem           Manhattan             Midtown  40.755569   \n38276          Lee            Brooklyn       Cypress Hills  40.677560   \n\n       longitude        room_type  price  minimum_nights  number_of_reviews  \\\n0     -73.985590  Entire home/apt    150              30                 48   \n1     -73.957650  Entire home/apt     75               1                409   \n2     -73.955120     Private room     60              30                 50   \n3     -73.994540  Entire home/apt    275               5                  2   \n4     -73.983170     Private room     68               2                507   \n...          ...              ...    ...             ...                ...   \n38272 -74.136715     Private room     79               1                  0   \n38273 -74.136142     Private room     76               1                  0   \n38274 -73.980536     Private room    116               1                  0   \n38275 -73.981976     Private room    106               1                  0   \n38276 -73.894990  Entire home/apt    689               1                  0   \n\n      last_review  reviews_per_month  calculated_host_listings_count  \\\n0      2019-11-04               0.33                               3   \n1      2021-10-22               4.86                               1   \n2      2016-06-05               0.52                               2   \n3      2021-08-08               0.02                               1   \n4      2021-11-08               3.68                               1   \n...           ...                ...                             ...   \n38272         NaN                NaN                               6   \n38273         NaN                NaN                               6   \n38274         NaN                NaN                              13   \n38275         NaN                NaN                              13   \n38276         NaN                NaN                               1   \n\n       availability_365  number_of_reviews_ltm license  \n0                   338                      0     NaN  \n1                   194                     32     NaN  \n2                   365                      0     NaN  \n3                   123                      1     NaN  \n4                   192                     33     NaN  \n...                 ...                    ...     ...  \n38272               359                      0     NaN  \n38273               359                      0     NaN  \n38274                11                      0     NaN  \n38275                 3                      0     NaN  \n38276               312                      0     NaN  \n\n[38277 rows x 18 columns]",
      "text/html": "<div>\n<style scoped>\n    .dataframe tbody tr th:only-of-type {\n        vertical-align: middle;\n    }\n\n    .dataframe tbody tr th {\n        vertical-align: top;\n    }\n\n    .dataframe thead th {\n        text-align: right;\n    }\n</style>\n<table border=\"1\" class=\"dataframe\">\n  <thead>\n    <tr style=\"text-align: right;\">\n      <th></th>\n      <th>id</th>\n      <th>name</th>\n      <th>host_id</th>\n      <th>host_name</th>\n      <th>neighbourhood_group</th>\n      <th>neighbourhood</th>\n      <th>latitude</th>\n      <th>longitude</th>\n      <th>room_type</th>\n      <th>price</th>\n      <th>minimum_nights</th>\n      <th>number_of_reviews</th>\n      <th>last_review</th>\n      <th>reviews_per_month</th>\n      <th>calculated_host_listings_count</th>\n      <th>availability_365</th>\n      <th>number_of_reviews_ltm</th>\n      <th>license</th>\n    </tr>\n  </thead>\n  <tbody>\n    <tr>\n      <th>0</th>\n      <td>2595</td>\n      <td>Skylit Midtown Castle</td>\n      <td>2845</td>\n      <td>Jennifer</td>\n      <td>Manhattan</td>\n      <td>Midtown</td>\n      <td>40.753560</td>\n      <td>-73.985590</td>\n      <td>Entire home/apt</td>\n      <td>150</td>\n      <td>30</td>\n      <td>48</td>\n      <td>2019-11-04</td>\n      <td>0.33</td>\n      <td>3</td>\n      <td>338</td>\n      <td>0</td>\n      <td>NaN</td>\n    </tr>\n    <tr>\n      <th>1</th>\n      <td>3831</td>\n      <td>Whole flr w/private bdrm, bath &amp; kitchen(pls r...</td>\n      <td>4869</td>\n      <td>LisaRoxanne</td>\n      <td>Brooklyn</td>\n      <td>Bedford-Stuyvesant</td>\n      <td>40.684940</td>\n      <td>-73.957650</td>\n      <td>Entire home/apt</td>\n      <td>75</td>\n      <td>1</td>\n      <td>409</td>\n      <td>2021-10-22</td>\n      <td>4.86</td>\n      <td>1</td>\n      <td>194</td>\n      <td>32</td>\n      <td>NaN</td>\n    </tr>\n    <tr>\n      <th>2</th>\n      <td>5121</td>\n      <td>BlissArtsSpace!</td>\n      <td>7356</td>\n      <td>Garon</td>\n      <td>Brooklyn</td>\n      <td>Bedford-Stuyvesant</td>\n      <td>40.685350</td>\n      <td>-73.955120</td>\n      <td>Private room</td>\n      <td>60</td>\n      <td>30</td>\n      <td>50</td>\n      <td>2016-06-05</td>\n      <td>0.52</td>\n      <td>2</td>\n      <td>365</td>\n      <td>0</td>\n      <td>NaN</td>\n    </tr>\n    <tr>\n      <th>3</th>\n      <td>5136</td>\n      <td>Spacious Brooklyn Duplex, Patio + Garden</td>\n      <td>7378</td>\n      <td>Rebecca</td>\n      <td>Brooklyn</td>\n      <td>Sunset Park</td>\n      <td>40.662650</td>\n      <td>-73.994540</td>\n      <td>Entire home/apt</td>\n      <td>275</td>\n      <td>5</td>\n      <td>2</td>\n      <td>2021-08-08</td>\n      <td>0.02</td>\n      <td>1</td>\n      <td>123</td>\n      <td>1</td>\n      <td>NaN</td>\n    </tr>\n    <tr>\n      <th>4</th>\n      <td>5178</td>\n      <td>Large Furnished Room Near B'way</td>\n      <td>8967</td>\n      <td>Shunichi</td>\n      <td>Manhattan</td>\n      <td>Midtown</td>\n      <td>40.764570</td>\n      <td>-73.983170</td>\n      <td>Private room</td>\n      <td>68</td>\n      <td>2</td>\n      <td>507</td>\n      <td>2021-11-08</td>\n      <td>3.68</td>\n      <td>1</td>\n      <td>192</td>\n      <td>33</td>\n      <td>NaN</td>\n    </tr>\n    <tr>\n      <th>...</th>\n      <td>...</td>\n      <td>...</td>\n      <td>...</td>\n      <td>...</td>\n      <td>...</td>\n      <td>...</td>\n      <td>...</td>\n      <td>...</td>\n      <td>...</td>\n      <td>...</td>\n      <td>...</td>\n      <td>...</td>\n      <td>...</td>\n      <td>...</td>\n      <td>...</td>\n      <td>...</td>\n      <td>...</td>\n      <td>...</td>\n    </tr>\n    <tr>\n      <th>38272</th>\n      <td>53662330</td>\n      <td>HUGE PRIVATE ROOM, AWESOME LOCATION</td>\n      <td>100146245</td>\n      <td>Serin</td>\n      <td>Staten Island</td>\n      <td>Port Richmond</td>\n      <td>40.632222</td>\n      <td>-74.136715</td>\n      <td>Private room</td>\n      <td>79</td>\n      <td>1</td>\n      <td>0</td>\n      <td>NaN</td>\n      <td>NaN</td>\n      <td>6</td>\n      <td>359</td>\n      <td>0</td>\n      <td>NaN</td>\n    </tr>\n    <tr>\n      <th>38273</th>\n      <td>53662542</td>\n      <td>LARGE PRVT ROOM, QUIET RESIDENCE PERFECTLOCATION</td>\n      <td>100146245</td>\n      <td>Serin</td>\n      <td>Staten Island</td>\n      <td>Port Richmond</td>\n      <td>40.630502</td>\n      <td>-74.136142</td>\n      <td>Private room</td>\n      <td>76</td>\n      <td>1</td>\n      <td>0</td>\n      <td>NaN</td>\n      <td>NaN</td>\n      <td>6</td>\n      <td>359</td>\n      <td>0</td>\n      <td>NaN</td>\n    </tr>\n    <tr>\n      <th>38274</th>\n      <td>53662772</td>\n      <td>King Room - Midtown Manhattan</td>\n      <td>337879004</td>\n      <td>Sinem</td>\n      <td>Manhattan</td>\n      <td>Midtown</td>\n      <td>40.753887</td>\n      <td>-73.980536</td>\n      <td>Private room</td>\n      <td>116</td>\n      <td>1</td>\n      <td>0</td>\n      <td>NaN</td>\n      <td>NaN</td>\n      <td>13</td>\n      <td>11</td>\n      <td>0</td>\n      <td>NaN</td>\n    </tr>\n    <tr>\n      <th>38275</th>\n      <td>53663081</td>\n      <td>King Room - Bryant Park.</td>\n      <td>337879004</td>\n      <td>Sinem</td>\n      <td>Manhattan</td>\n      <td>Midtown</td>\n      <td>40.755569</td>\n      <td>-73.981976</td>\n      <td>Private room</td>\n      <td>106</td>\n      <td>1</td>\n      <td>0</td>\n      <td>NaN</td>\n      <td>NaN</td>\n      <td>13</td>\n      <td>3</td>\n      <td>0</td>\n      <td>NaN</td>\n    </tr>\n    <tr>\n      <th>38276</th>\n      <td>53665099</td>\n      <td>★Luxury in the ❤of Bklyn | Fast Wi-Fi | Sleeps...</td>\n      <td>60105727</td>\n      <td>Lee</td>\n      <td>Brooklyn</td>\n      <td>Cypress Hills</td>\n      <td>40.677560</td>\n      <td>-73.894990</td>\n      <td>Entire home/apt</td>\n      <td>689</td>\n      <td>1</td>\n      <td>0</td>\n      <td>NaN</td>\n      <td>NaN</td>\n      <td>1</td>\n      <td>312</td>\n      <td>0</td>\n      <td>NaN</td>\n    </tr>\n  </tbody>\n</table>\n<p>38277 rows × 18 columns</p>\n</div>"
     },
     "execution_count": 14,
     "metadata": {},
     "output_type": "execute_result"
    }
   ],
   "source": [],
   "metadata": {
    "collapsed": false,
    "pycharm": {
     "name": "#%%\n"
    }
   }
  }
 ],
 "metadata": {
  "kernelspec": {
   "display_name": "Python 3",
   "language": "python",
   "name": "python3"
  },
  "language_info": {
   "codemirror_mode": {
    "name": "ipython",
    "version": 2
   },
   "file_extension": ".py",
   "mimetype": "text/x-python",
   "name": "python",
   "nbconvert_exporter": "python",
   "pygments_lexer": "ipython2",
   "version": "2.7.6"
  }
 },
 "nbformat": 4,
 "nbformat_minor": 0
}